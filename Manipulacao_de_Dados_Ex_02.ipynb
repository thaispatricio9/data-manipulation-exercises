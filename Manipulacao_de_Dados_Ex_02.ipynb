{
 "cells": [
  {
   "cell_type": "markdown",
   "metadata": {
    "colab_type": "text",
    "id": "mG98ajLLNIjz"
   },
   "source": [
    "![](https://i.imgur.com/JsMvGnP.png)"
   ]
  },
  {
   "cell_type": "markdown",
   "metadata": {
    "colab_type": "text",
    "id": "7Ch5KPRpui-Q"
   },
   "source": [
    "\n",
    "## Exercícios de manipulação de dados - Parte 2"
   ]
  },
  {
   "cell_type": "markdown",
   "metadata": {
    "colab_type": "text",
    "id": "IscqV7Obui-R"
   },
   "source": [
    "Neste Jupyter notebook você irá resolver uma exercícios utilizando a biblioteca Pandas.\\\n",
    "Todos os datasets utilizados nos exercícios estão salvos na pasta *datasets*.\\\n",
    "Todo o seu código deve ser executado neste Jupyter Notebook. Por fim, se desejar, revise as respostas com o seu mentor."
   ]
  },
  {
   "cell_type": "code",
   "execution_count": 1,
   "metadata": {},
   "outputs": [],
   "source": [
    "import pandas as pd"
   ]
  },
  {
   "cell_type": "markdown",
   "metadata": {
    "colab_type": "text",
    "id": "Trmht8Dfui-S"
   },
   "source": [
    "#### Tarefa 1. Importe o dataset e salve os dados em um dataframe\n",
    "\n",
    "Os dados estão salvos no arquivo ***datasets/US_Crime_Rates_1960_2014.csv***.\\\n",
    "Este dataset contém dados de crimes ocorridos nos Estados Unidos no período de 1960 até 2014.\\\n",
    "Salve os dados em uma variável de nome *crime*."
   ]
  },
  {
   "cell_type": "code",
   "execution_count": 2,
   "metadata": {
    "colab": {},
    "colab_type": "code",
    "id": "LN4JDdSjui-T"
   },
   "outputs": [],
   "source": [
    "crime = pd.read_csv(\"datasets/US_Crime_Rates_1960_2014.csv\")"
   ]
  },
  {
   "cell_type": "markdown",
   "metadata": {
    "colab_type": "text",
    "id": "8F6IEdZsui-X"
   },
   "source": [
    "#### Tarefa 2. Qual o tipo de dados em cada coluna?"
   ]
  },
  {
   "cell_type": "code",
   "execution_count": 3,
   "metadata": {
    "colab": {},
    "colab_type": "code",
    "id": "guR3et-zui-Y"
   },
   "outputs": [
    {
     "name": "stdout",
     "output_type": "stream",
     "text": [
      "<class 'pandas.core.frame.DataFrame'>\n",
      "RangeIndex: 55 entries, 0 to 54\n",
      "Data columns (total 12 columns):\n",
      " #   Column              Non-Null Count  Dtype\n",
      "---  ------              --------------  -----\n",
      " 0   Year                55 non-null     int64\n",
      " 1   Population          55 non-null     int64\n",
      " 2   Total               55 non-null     int64\n",
      " 3   Violent             55 non-null     int64\n",
      " 4   Property            55 non-null     int64\n",
      " 5   Murder              55 non-null     int64\n",
      " 6   Forcible_Rape       55 non-null     int64\n",
      " 7   Robbery             55 non-null     int64\n",
      " 8   Aggravated_assault  55 non-null     int64\n",
      " 9   Burglary            55 non-null     int64\n",
      " 10  Larceny_Theft       55 non-null     int64\n",
      " 11  Vehicle_Theft       55 non-null     int64\n",
      "dtypes: int64(12)\n",
      "memory usage: 5.3 KB\n"
     ]
    }
   ],
   "source": [
    "crime.info()"
   ]
  },
  {
   "cell_type": "markdown",
   "metadata": {
    "colab_type": "text",
    "id": "ZnhPRMhrui-c"
   },
   "source": [
    "#### Tarefa 3. Converta o tipo de dado da coluna Year para o tipo datetime\n",
    "\n",
    "*Dica: procure na documentação da biblioteca como fazer tal conversão*"
   ]
  },
  {
   "cell_type": "code",
   "execution_count": 4,
   "metadata": {
    "colab": {},
    "colab_type": "code",
    "id": "HAIM8iB3ui-d"
   },
   "outputs": [],
   "source": [
    "crime['Year'] = pd.to_datetime(crime[\"Year\"], format=\"%Y\")"
   ]
  },
  {
   "cell_type": "markdown",
   "metadata": {
    "colab_type": "text",
    "id": "wUMLk49Wui-h"
   },
   "source": [
    "#### Tarefa 4. Configure a coluna Year como index do DataFrame.\n",
    "\n",
    "*Dica: use a função set_index() do Pandas* "
   ]
  },
  {
   "cell_type": "code",
   "execution_count": 5,
   "metadata": {
    "colab": {},
    "colab_type": "code",
    "id": "6n-r6P4jui-i"
   },
   "outputs": [],
   "source": [
    "crime.set_index(\"Year\", inplace=True)"
   ]
  },
  {
   "cell_type": "markdown",
   "metadata": {
    "colab_type": "text",
    "id": "J-osqYpUui-l"
   },
   "source": [
    "#### Tarefa 5. Remova a coluna Total do DataFrame."
   ]
  },
  {
   "cell_type": "code",
   "execution_count": 6,
   "metadata": {
    "colab": {},
    "colab_type": "code",
    "id": "td1aqCVrui-m"
   },
   "outputs": [],
   "source": [
    "crime.drop(columns=[\"Total\"], inplace = True)"
   ]
  },
  {
   "cell_type": "markdown",
   "metadata": {
    "colab_type": "text",
    "id": "sNRpI3snDwZ7"
   },
   "source": [
    "#### Tarefa 6. Encontre o número de roubos de carro do ano de 1978."
   ]
  },
  {
   "cell_type": "code",
   "execution_count": 7,
   "metadata": {
    "colab": {},
    "colab_type": "code",
    "id": "iCHYwMqLECpl"
   },
   "outputs": [
    {
     "data": {
      "text/plain": [
       "Year\n",
       "1978-01-01    1004100\n",
       "Name: Vehicle_Theft, dtype: int64"
      ]
     },
     "execution_count": 7,
     "metadata": {},
     "output_type": "execute_result"
    }
   ],
   "source": [
    "crime.loc[crime.index==\"1978-01-01\", \"Vehicle_Theft\"]"
   ]
  },
  {
   "cell_type": "markdown",
   "metadata": {
    "colab_type": "text",
    "id": "EAlbLVK2ui-q"
   },
   "source": [
    "#### Tarefa 7. Retorne a linha do ano em que houve o maior número de assasinatos. \n",
    "\n",
    "*Dica: use a coluna Murder como referência.*"
   ]
  },
  {
   "cell_type": "code",
   "execution_count": 8,
   "metadata": {
    "colab": {},
    "colab_type": "code",
    "id": "GpIqR-6vui-s"
   },
   "outputs": [
    {
     "data": {
      "text/plain": [
       "Timestamp('1991-01-01 00:00:00')"
      ]
     },
     "execution_count": 8,
     "metadata": {},
     "output_type": "execute_result"
    }
   ],
   "source": [
    "crime[\"Murder\"].idxmax()"
   ]
  },
  {
   "cell_type": "markdown",
   "metadata": {
    "colab_type": "text",
    "id": "L7bit-TcEGMm"
   },
   "source": [
    "#### Tarefa 8. Retorne o número de assassinatos do ano em que foi registrado o menor número de roubo de carros. \n"
   ]
  },
  {
   "cell_type": "code",
   "execution_count": 9,
   "metadata": {
    "colab": {},
    "colab_type": "code",
    "id": "KAz9sW1oEVeK"
   },
   "outputs": [
    {
     "data": {
      "text/plain": [
       "Year\n",
       "1960-01-01    9110\n",
       "Name: Murder, dtype: int64"
      ]
     },
     "execution_count": 9,
     "metadata": {},
     "output_type": "execute_result"
    }
   ],
   "source": [
    "crime.loc[crime.index==crime[\"Vehicle_Theft\"].idxmin(), \"Murder\"]"
   ]
  },
  {
   "cell_type": "markdown",
   "metadata": {
    "colab_type": "text",
    "id": "E0RnhuuMEWsw"
   },
   "source": [
    "**Parabéns! Você chegou ao fim**"
   ]
  }
 ],
 "metadata": {
  "anaconda-cloud": {},
  "colab": {
   "name": "Exercicios_unidade_5_Manipulacao_de_Dados_Parte_02.ipynb",
   "provenance": []
  },
  "kernelspec": {
   "display_name": "Python 3",
   "language": "python",
   "name": "python3"
  },
  "language_info": {
   "codemirror_mode": {
    "name": "ipython",
    "version": 3
   },
   "file_extension": ".py",
   "mimetype": "text/x-python",
   "name": "python",
   "nbconvert_exporter": "python",
   "pygments_lexer": "ipython3",
   "version": "3.8.8"
  }
 },
 "nbformat": 4,
 "nbformat_minor": 1
}
